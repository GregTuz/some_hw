{
 "cells": [
  {
   "cell_type": "code",
   "execution_count": 2,
   "id": "c63e58f2-1045-4203-acb1-4d8ef194c5e1",
   "metadata": {},
   "outputs": [],
   "source": [
    "import datetime"
   ]
  },
  {
   "cell_type": "code",
   "execution_count": 4,
   "id": "92f80aff-7cee-4a21-986d-0448f5da7516",
   "metadata": {},
   "outputs": [],
   "source": [
    "class Account:\n",
    "    def __init__(self, name, balance=0):\n",
    "        self.name = name\n",
    "        self.balance = balance\n",
    "        self.history = []\n",
    "\n",
    "    def deposit(self, amount):\n",
    "        if amount > 0:\n",
    "            self.balance += amount\n",
    "            self.history.append(f\"Deposit: {datetime.datetime.strftime(datetime.datetime.now(), \"%Y/%m/%d %H:%M:%S\")} - {amount} добавлено на счёт {self.name}. Баланс: {self.balance}\")\n",
    "        else:\n",
    "            print(\"Невозможно пополнить отрицательную сумму\")\n",
    "\n",
    "    def withdraw(self, amount):\n",
    "        if 0 < amount and amount <= self.balance:\n",
    "            self.balance -= amount\n",
    "            self.history.append(f\"Withdrawal: {datetime.datetime.strftime(datetime.datetime.now(), \"%Y/%m/%d %H:%M:%S\")} - {amount} снято со счёта {self.name}. Баланс: {self.balance}\")\n",
    "        else:\n",
    "            print(\"Недостаточно средств или введена некорректная сумма\")\n",
    "\n",
    "    def get_history(self):\n",
    "        return self.history"
   ]
  },
  {
   "cell_type": "code",
   "execution_count": 6,
   "id": "4aab6008-d0d1-45cf-83dd-7de6ded625b5",
   "metadata": {},
   "outputs": [
    {
     "name": "stdout",
     "output_type": "stream",
     "text": [
      "Недостаточно средств или введена некорректная сумма\n",
      "История операций: ['Deposit: 2024/10/05 23:49:39 - 50 добавлено на счёт Greg. Баланс: 150', 'Withdrawal: 2024/10/05 23:49:39 - 30 снято со счёта Greg. Баланс: 120', 'Deposit: 2024/10/05 23:49:39 - 200 добавлено на счёт Greg. Баланс: 320']\n"
     ]
    }
   ],
   "source": [
    "account = Account(\"Greg\", 100)\n",
    "account.deposit(50)\n",
    "account.withdraw(30)\n",
    "account.deposit(200)\n",
    "account.withdraw(500)\n",
    "print(\"История операций:\", account.get_history())\n"
   ]
  },
  {
   "cell_type": "code",
   "execution_count": null,
   "id": "4212ca6c-b211-4c79-882d-e72b5f92e7d1",
   "metadata": {},
   "outputs": [],
   "source": []
  }
 ],
 "metadata": {
  "kernelspec": {
   "display_name": "Python 3 (ipykernel)",
   "language": "python",
   "name": "python3"
  },
  "language_info": {
   "codemirror_mode": {
    "name": "ipython",
    "version": 3
   },
   "file_extension": ".py",
   "mimetype": "text/x-python",
   "name": "python",
   "nbconvert_exporter": "python",
   "pygments_lexer": "ipython3",
   "version": "3.12.4"
  }
 },
 "nbformat": 4,
 "nbformat_minor": 5
}
