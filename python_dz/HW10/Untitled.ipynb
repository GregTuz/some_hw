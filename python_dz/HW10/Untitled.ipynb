{
 "cells": [
  {
   "cell_type": "markdown",
   "id": "78642107-11e2-4029-96f5-3c68803a095e",
   "metadata": {},
   "source": [
    "Задача:\n",
    "1. На основе файла electronic_devices.csv сгенерировать данные на 1 миллион строк c помощью sdv.\n",
    "\n",
    "2. С помощью Spark прочитать данные, выбрать данные за «2024-09-03» и отфильтровать записи с одной дополнительной покупкой (столбец «addons»).\n",
    "3. На основе полученных данных вычислить разницу между минимальной и максимальной ценой товара (столбец «unit_price»), разницу между минимальной и максимальной ценой заказа (столбец «total_price»). Данные необходимо группировать на основе пола, возраста, возраста и пола.\n",
    "4. Данные можно собрать с помощью функции df.collect(), сохранять не нужно.\n",
    "5. Необходимо получить среднее время выполнения агрегаций без кэширования после фильтра, а также с различными способами кэширования/сохранением контрольной точки."
   ]
  },
  {
   "cell_type": "code",
   "execution_count": 35,
   "id": "419a83f0-90a3-4d95-a376-9f33a0c6f9ec",
   "metadata": {},
   "outputs": [],
   "source": [
    "from pyspark.sql import SparkSession, DataFrame\n",
    "from pyspark.sql.types import StringType, StructType, IntegerType, DateType, StructField\n",
    "import pyspark.sql.functions as F\n",
    "import pandas as pd\n",
    "from sdv.metadata import Metadata\n",
    "from sdv.single_table import GaussianCopulaSynthesizer"
   ]
  },
  {
   "cell_type": "code",
   "execution_count": 3,
   "id": "d64c5788-2394-46b5-b915-9e743318c17d",
   "metadata": {},
   "outputs": [
    {
     "name": "stderr",
     "output_type": "stream",
     "text": [
      "24/12/17 16:30:17 WARN Utils: Your hostname, MacBook-Air-15.local resolves to a loopback address: 127.0.0.1; using 10.8.61.153 instead (on interface en0)\n",
      "24/12/17 16:30:17 WARN Utils: Set SPARK_LOCAL_IP if you need to bind to another address\n",
      "Setting default log level to \"WARN\".\n",
      "To adjust logging level use sc.setLogLevel(newLevel). For SparkR, use setLogLevel(newLevel).\n",
      "24/12/17 16:30:18 WARN NativeCodeLoader: Unable to load native-hadoop library for your platform... using builtin-java classes where applicable\n"
     ]
    }
   ],
   "source": [
    "spark = SparkSession \\\n",
    "            .builder \\\n",
    "            .appName(\"spark_demo_2\") \\\n",
    "            .master(\"local\") \\\n",
    "            .getOrCreate()"
   ]
  },
  {
   "cell_type": "code",
   "execution_count": 4,
   "id": "f2942b16-a527-417c-8b2d-788f43b9e07e",
   "metadata": {},
   "outputs": [
    {
     "name": "stderr",
     "output_type": "stream",
     "text": [
      "24/12/17 16:30:19 WARN SparkSession: Using an existing Spark session; only runtime SQL configurations will take effect.\n"
     ]
    }
   ],
   "source": [
    "spark = SparkSession.builder \\\n",
    "    .master(\"local\") \\\n",
    "    .config(\"spark.submit.deployMode\", \"client\") \\\n",
    "    .config(\"spark.executor.instances\", \"4\") \\\n",
    "    .config(\"spark.executor.cores\", \"2\") \\\n",
    "    .config(\"spark.executor.memory\", \"4g\") \\\n",
    "    .config(\"spark.driver.memory\", \"2g\") \\\n",
    "    .getOrCreate()"
   ]
  },
  {
   "cell_type": "code",
   "execution_count": 16,
   "id": "7772daaf-3f1a-4edf-826a-899c7f398f4b",
   "metadata": {},
   "outputs": [],
   "source": [
    "spark.stop()"
   ]
  },
  {
   "cell_type": "code",
   "execution_count": 8,
   "id": "7cf103ec-e224-4c25-9101-d5b2d646f72c",
   "metadata": {},
   "outputs": [],
   "source": [
    "sdf = spark.read.csv('synthetic_electronic_devices.csv',\n",
    "                    header='true')"
   ]
  },
  {
   "cell_type": "code",
   "execution_count": 9,
   "id": "cb6b4065-6dac-452e-9346-8a2b2de74878",
   "metadata": {},
   "outputs": [],
   "source": [
    "sdf = sdf.withColumn('addons_splitted', f.split(f.col('addons'), ','))"
   ]
  },
  {
   "cell_type": "code",
   "execution_count": 10,
   "id": "74f858bb-388b-41d5-8a65-96561abae2d5",
   "metadata": {},
   "outputs": [
    {
     "data": {
      "text/plain": [
       "DataFrame[customer_id: string, age: string, gender: string, loyalty_member: string, product_type: string, sku: string, rating: string, order_status: string, payment_method: string, total_price: string, unit_price: string, quantity: string, purchase_date: string, shipping_type: string, addons: string, addons_cnt: string, addons_splitted: array<string>]"
      ]
     },
     "execution_count": 10,
     "metadata": {},
     "output_type": "execute_result"
    }
   ],
   "source": [
    "sdf"
   ]
  },
  {
   "cell_type": "code",
   "execution_count": 163,
   "id": "1dc67bfe-818b-4fcd-8371-16409dee5184",
   "metadata": {},
   "outputs": [
    {
     "name": "stderr",
     "output_type": "stream",
     "text": [
      "[Stage 69:>                                                         (0 + 1) / 1]\r"
     ]
    },
    {
     "name": "stdout",
     "output_type": "stream",
     "text": [
      "+-----------+---+------+--------------+------------+-------+------+------------+--------------+-----------+----------+--------+-------------+-------------+-----------------+----------+-------------------+\n",
      "|customer_id|age|gender|loyalty_member|product_type|    sku|rating|order_status|payment_method|total_price|unit_price|quantity|purchase_date|shipping_type|           addons|addons_cnt|    addons_splitted|\n",
      "+-----------+---+------+--------------+------------+-------+------+------------+--------------+-----------+----------+--------+-------------+-------------+-----------------+----------+-------------------+\n",
      "|       9626| 19|Female|            No|      Tablet|SKU1002|     3|   Completed|    Debit Card|   10610.57|    972.06|       2|   2024-09-03|    Expedited|        Accessory|     11.44|        [Accessory]|\n",
      "|      15982| 19|  Male|           Yes|      Tablet| HDP456|     4|   Completed|          Cash|     221.86|    694.62|       5|   2024-09-03|      Express|        Accessory|      0.69|        [Accessory]|\n",
      "|      13748| 19|Female|            No|      Laptop|SKU1005|     3|   Completed|    Debit Card|    6649.99|   1101.17|      10|   2024-09-03|     Same Day|        Accessory|     14.41|        [Accessory]|\n",
      "|      16817| 20|  Male|            No|  Smartwatch| HDP456|     4|   Completed|        Paypal|    5045.73|    991.55|      10|   2024-09-03|    Overnight|        Accessory|      5.53|        [Accessory]|\n",
      "|       7071| 20|Female|            No|      Tablet|SKU1005|     3|   Cancelled|   Credit Card|     314.99|    165.17|       2|   2024-09-03|      Express|Extended Warranty|     22.81|[Extended Warranty]|\n",
      "|       2651| 20|Female|            No|      Laptop|SKU1003|     5|   Completed|        Paypal|    3444.17|     353.9|       5|   2024-09-03|     Standard|     Impulse Item|      0.03|     [Impulse Item]|\n",
      "|       6180| 20|  Male|           Yes|      Tablet| TBL345|     5|   Completed|    Debit Card|      71.53|    701.36|       5|   2024-09-03|     Standard|        Accessory|     38.89|        [Accessory]|\n",
      "|      10345| 20|  Male|            No|  Smartwatch| SWT567|     5|   Completed|        PayPal|    2158.99|    659.87|       5|   2024-09-03|     Same Day|     Impulse Item|     26.32|     [Impulse Item]|\n",
      "|       1240| 20|Female|           Yes|  Smartphone|SKU1002|     2|   Completed|   Credit Card|     281.07|    127.14|       4|   2024-09-03|    Expedited|        Accessory|      2.51|        [Accessory]|\n",
      "|       5457| 20|Female|            No|  Smartphone| LTP123|     1|   Completed| Bank Transfer|     693.82|    280.37|       2|   2024-09-03|      Express|        Accessory|      53.4|        [Accessory]|\n",
      "|      17116| 20|Female|            No|  Headphones| SWT567|     3|   Completed|    Debit Card|    3091.44|     593.6|       9|   2024-09-03|    Expedited|     Impulse Item|      9.43|     [Impulse Item]|\n",
      "|      12640| 20|Female|            No|  Smartwatch| TBL345|     3|   Completed|        PayPal|    6785.45|   1116.98|       2|   2024-09-03|    Overnight|        Accessory|     11.68|        [Accessory]|\n",
      "|       2522| 21|  Male|            No|  Smartphone|SKU1004|     3|   Completed|   Credit Card|    6276.26|    972.98|       8|   2024-09-03|      Express|        Accessory|      5.98|        [Accessory]|\n",
      "|       3300| 21|  Male|            No|      Tablet|SKU1004|     3|   Completed|          Cash|    2533.21|    689.44|      10|   2024-09-03|    Overnight|        Accessory|      1.28|        [Accessory]|\n",
      "|      16449| 21|  Male|           Yes|  Smartphone| HDP456|     5|   Completed|          Cash|    3590.52|   1100.49|       6|   2024-09-03|    Overnight|Extended Warranty|      4.39|[Extended Warranty]|\n",
      "|      18997| 21|  Male|            No|  Smartwatch| HDP456|     1|   Cancelled|        Paypal|    3844.84|    565.57|       9|   2024-09-03|     Standard|Extended Warranty|     30.45|[Extended Warranty]|\n",
      "|      12796| 21|  Male|            No|  Headphones| SMP234|     3|   Cancelled|    Debit Card|     629.43|    181.03|       7|   2024-09-03|      Express|        Accessory|     18.43|        [Accessory]|\n",
      "|       2344| 21|  Male|            No|      Laptop|SKU1004|     3|   Completed|   Credit Card|    8136.03|   1082.56|       9|   2024-09-03|      Express|        Accessory|      0.96|        [Accessory]|\n",
      "|      15774| 21|  Male|           Yes|      Tablet|SKU1002|     2|   Completed|          Cash|     4157.2|    894.34|       6|   2024-09-03|    Overnight|     Impulse Item|       0.0|     [Impulse Item]|\n",
      "|      11589| 21|  Male|            No|  Smartphone| SMP234|     3|   Completed|          Cash|    2239.18|   1137.69|       4|   2024-09-03|    Expedited|Extended Warranty|       0.6|[Extended Warranty]|\n",
      "+-----------+---+------+--------------+------------+-------+------+------------+--------------+-----------+----------+--------+-------------+-------------+-----------------+----------+-------------------+\n",
      "only showing top 20 rows\n",
      "\n"
     ]
    },
    {
     "name": "stderr",
     "output_type": "stream",
     "text": [
      "                                                                                \r"
     ]
    }
   ],
   "source": [
    "agg_sdf = sdf.where((sdf['purchase_date']=='2024-09-03') & (f.size(sdf['addons_splitted']) == 1) & (sdf.addons != 'Null'))\n",
    "agg_sdf.orderBy(f.col('age')).show()"
   ]
  },
  {
   "cell_type": "code",
   "execution_count": 165,
   "id": "40615544-f89b-4a21-90f0-02d9367e2602",
   "metadata": {},
   "outputs": [],
   "source": [
    "agg_sdf = agg_sdf.withColumn('unit_price_int', f.col('unit_price').cast(IntegerType()))"
   ]
  },
  {
   "cell_type": "code",
   "execution_count": 171,
   "id": "cb38eea2-40c3-4126-a45f-3717faf3451d",
   "metadata": {},
   "outputs": [
    {
     "ename": "SyntaxError",
     "evalue": "incomplete input (3172972983.py, line 3)",
     "output_type": "error",
     "traceback": [
      "\u001b[0;36m  Cell \u001b[0;32mIn[171], line 3\u001b[0;36m\u001b[0m\n\u001b[0;31m    # agg_sdf.agg(f.min('unit_price_int')).show()\u001b[0m\n\u001b[0m                                                 ^\u001b[0m\n\u001b[0;31mSyntaxError\u001b[0m\u001b[0;31m:\u001b[0m incomplete input\n"
     ]
    }
   ],
   "source": [
    "agg_sdf = agg_sdf.groupBy(f.col('age'), f.col('gender'), f.col('unit_price')) \\\n",
    "    .agg((f.max('unit_price_int') - f.min('unit_price_int'))\n",
    "# agg_sdf.agg(f.min('unit_price_int')).show()"
   ]
  },
  {
   "cell_type": "code",
   "execution_count": 169,
   "id": "8f6a0178-670a-45f4-9740-876c21839054",
   "metadata": {},
   "outputs": [
    {
     "name": "stdout",
     "output_type": "stream",
     "text": [
      "+-----------+---+------+--------------+------------+-------+------+------------+--------------+-----------+----------+--------+-------------+-------------+-----------------+----------+-------------------+--------------+\n",
      "|customer_id|age|gender|loyalty_member|product_type|    sku|rating|order_status|payment_method|total_price|unit_price|quantity|purchase_date|shipping_type|           addons|addons_cnt|    addons_splitted|unit_price_int|\n",
      "+-----------+---+------+--------------+------------+-------+------+------------+--------------+-----------+----------+--------+-------------+-------------+-----------------+----------+-------------------+--------------+\n",
      "|      17296| 64|Female|            No|      Tablet| HDP456|     4|   Completed|        Paypal|      644.0|    774.88|       2|   2024-09-03|    Expedited|        Accessory|      3.62|        [Accessory]|           774|\n",
      "|      19687| 60|Female|            No|      Laptop| HDP456|     3|   Completed|   Credit Card|    5659.38|   1101.21|       8|   2024-09-03|      Express|Extended Warranty|     45.84|[Extended Warranty]|          1101|\n",
      "|      17891| 34|Female|            No|      Laptop| SWT567|     5|   Completed|    Debit Card|    1389.79|    692.61|       8|   2024-09-03|    Expedited|Extended Warranty|     26.38|[Extended Warranty]|           692|\n",
      "|      18299| 65|  Male|            No|      Laptop| SWT567|     4|   Completed|        PayPal|     394.83|   1015.59|       1|   2024-09-03|     Standard|        Accessory|      2.81|        [Accessory]|          1015|\n",
      "|       9133| 51|  Male|            No|      Tablet| SWT567|     3|   Cancelled|   Credit Card|    2744.55|    894.68|       8|   2024-09-03|     Same Day|        Accessory|      9.69|        [Accessory]|           894|\n",
      "|      13044| 62|Female|            No|  Smartwatch| TBL345|     3|   Completed|        PayPal|    4071.44|    929.67|       6|   2024-09-03|    Expedited|        Accessory|      0.56|        [Accessory]|           929|\n",
      "|       6797| 30|  Male|            No|      Laptop|SKU1001|     1|   Cancelled|        Paypal|    1731.58|    444.81|       6|   2024-09-03|      Express|        Accessory|      3.48|        [Accessory]|           444|\n",
      "|      11977| 52|  Male|            No|      Laptop| SMP234|     3|   Completed|        Paypal|      581.8|   1131.17|      10|   2024-09-03|      Express|Extended Warranty|     49.54|[Extended Warranty]|          1131|\n",
      "|      16428| 49|  Male|            No|  Headphones| SWT567|     4|   Completed|   Credit Card|     1451.7|    151.17|       8|   2024-09-03|      Express|Extended Warranty|     40.66|[Extended Warranty]|           151|\n",
      "|       5904| 53|Female|            No|      Laptop| SMP234|     3|   Cancelled|   Credit Card|      49.95|    125.08|       8|   2024-09-03|     Same Day|        Accessory|     26.79|        [Accessory]|           125|\n",
      "|      18289| 75|  Male|            No|  Smartphone| TBL345|     3|   Cancelled| Bank Transfer|    1310.36|   1041.33|       5|   2024-09-03|     Standard|Extended Warranty|     39.98|[Extended Warranty]|          1041|\n",
      "|      16817| 20|  Male|            No|  Smartwatch| HDP456|     4|   Completed|        Paypal|    5045.73|    991.55|      10|   2024-09-03|    Overnight|        Accessory|      5.53|        [Accessory]|           991|\n",
      "|       7111| 42|Female|            No|      Laptop| LTP123|     2|   Completed|        PayPal|    8522.61|   1137.15|       6|   2024-09-03|     Standard|Extended Warranty|     71.69|[Extended Warranty]|          1137|\n",
      "|       2420| 30|Female|           Yes|      Laptop| LTP123|     3|   Completed|   Credit Card|     1726.0|    606.07|       6|   2024-09-03|    Overnight|     Impulse Item|      1.01|     [Impulse Item]|           606|\n",
      "|       4813| 27|Female|           Yes|  Smartphone|SKU1005|     2|   Cancelled|   Credit Card|    11396.8|   1139.68|       3|   2024-09-03|    Expedited|Extended Warranty|      1.41|[Extended Warranty]|          1139|\n",
      "|       2344| 21|  Male|            No|      Laptop|SKU1004|     3|   Completed|   Credit Card|    8136.03|   1082.56|       9|   2024-09-03|      Express|        Accessory|      0.96|        [Accessory]|          1082|\n",
      "|      11347| 59|  Male|            No|      Tablet|SKU1001|     2|   Completed|        Paypal|    4689.85|   1084.36|       1|   2024-09-03|    Overnight|        Accessory|      1.98|        [Accessory]|          1084|\n",
      "|      12588| 64|  Male|            No|      Laptop|SKU1004|     3|   Completed|        Paypal|    2759.42|     956.3|       1|   2024-09-03|    Overnight|     Impulse Item|      7.49|     [Impulse Item]|           956|\n",
      "|       3420| 25|  Male|           Yes|      Laptop|SKU1003|     5|   Completed|   Credit Card|      24.51|    210.17|       4|   2024-09-03|    Overnight|Extended Warranty|      3.52|[Extended Warranty]|           210|\n",
      "|      19633| 42|  Male|           Yes|  Smartphone| LTP123|     3|   Cancelled|        PayPal|    7610.89|   1139.65|       9|   2024-09-03|     Standard|Extended Warranty|     32.49|[Extended Warranty]|          1139|\n",
      "+-----------+---+------+--------------+------------+-------+------+------------+--------------+-----------+----------+--------+-------------+-------------+-----------------+----------+-------------------+--------------+\n",
      "only showing top 20 rows\n",
      "\n"
     ]
    }
   ],
   "source": [
    "agg_sdf.show()"
   ]
  },
  {
   "cell_type": "code",
   "execution_count": 37,
   "id": "319d829b-72d8-40cd-8916-9606757791de",
   "metadata": {},
   "outputs": [
    {
     "name": "stderr",
     "output_type": "stream",
     "text": [
      "/opt/anaconda3/envs/sdv_env/lib/python3.10/site-packages/sdv/single_table/base.py:104: UserWarning: We strongly recommend saving the metadata using 'save_to_json' for replicability in future SDV versions.\n",
      "  warnings.warn(\n"
     ]
    },
    {
     "ename": "NameError",
     "evalue": "name 'data' is not defined",
     "output_type": "error",
     "traceback": [
      "\u001b[0;31m---------------------------------------------------------------------------\u001b[0m",
      "\u001b[0;31mNameError\u001b[0m                                 Traceback (most recent call last)",
      "Cell \u001b[0;32mIn[37], line 12\u001b[0m\n\u001b[1;32m      9\u001b[0m \u001b[38;5;66;03m# metadata.save_to_json('my_final_metadata.json')\u001b[39;00m\n\u001b[1;32m     11\u001b[0m model \u001b[38;5;241m=\u001b[39m GaussianCopulaSynthesizer(metadata)\n\u001b[0;32m---> 12\u001b[0m model\u001b[38;5;241m.\u001b[39mfit(\u001b[43mdata\u001b[49m)\n\u001b[1;32m     14\u001b[0m synthetic_data \u001b[38;5;241m=\u001b[39m model\u001b[38;5;241m.\u001b[39msample(\u001b[38;5;241m1000000\u001b[39m)\n\u001b[1;32m     16\u001b[0m synthetic_data\u001b[38;5;241m.\u001b[39mto_csv(\u001b[38;5;124m'\u001b[39m\u001b[38;5;124msynthetic_electronic_devices.csv\u001b[39m\u001b[38;5;124m'\u001b[39m, index\u001b[38;5;241m=\u001b[39m\u001b[38;5;28;01mFalse\u001b[39;00m)\n",
      "\u001b[0;31mNameError\u001b[0m: name 'data' is not defined"
     ]
    }
   ],
   "source": [
    "file_path = './electronic_devices.csv' \n",
    "df = pd.read_csv(file_path)\n",
    "metadata = Metadata.detect_from_dataframes(\n",
    "    data={\n",
    "        'electronics': df\n",
    "    })\n",
    "metadata\n",
    "metadata.validate()\n",
    "metadata.save_to_json('my_final_metadata.json')\n",
    "\n",
    "model = GaussianCopulaSynthesizer(metadata)\n",
    "model.fit(data)\n",
    "\n",
    "synthetic_data = model.sample(1000000)\n",
    "\n",
    "synthetic_data.to_csv('synthetic_electronic_devices.csv', index=False)\n",
    "print('1000000 of syntetics were created')"
   ]
  },
  {
   "cell_type": "code",
   "execution_count": 39,
   "id": "463afdc2-50b0-4757-a29c-7d8da1e6532d",
   "metadata": {},
   "outputs": [
    {
     "name": "stderr",
     "output_type": "stream",
     "text": [
      "/opt/anaconda3/envs/sdv_env/lib/python3.10/site-packages/sdv/single_table/base.py:104: UserWarning: We strongly recommend saving the metadata using 'save_to_json' for replicability in future SDV versions.\n",
      "  warnings.warn(\n"
     ]
    },
    {
     "ename": "NameError",
     "evalue": "name 'data' is not defined",
     "output_type": "error",
     "traceback": [
      "\u001b[0;31m---------------------------------------------------------------------------\u001b[0m",
      "\u001b[0;31mNameError\u001b[0m                                 Traceback (most recent call last)",
      "Cell \u001b[0;32mIn[39], line 12\u001b[0m\n\u001b[1;32m      9\u001b[0m \u001b[38;5;66;03m# metadata.save_to_json('my_final_metadata.json')\u001b[39;00m\n\u001b[1;32m     11\u001b[0m model \u001b[38;5;241m=\u001b[39m GaussianCopulaSynthesizer(metadata)\n\u001b[0;32m---> 12\u001b[0m model\u001b[38;5;241m.\u001b[39mfit(\u001b[43mdata\u001b[49m)\n\u001b[1;32m     14\u001b[0m synthetic_data \u001b[38;5;241m=\u001b[39m model\u001b[38;5;241m.\u001b[39msample(\u001b[38;5;241m100\u001b[39m)\n\u001b[1;32m     16\u001b[0m synthetic_data\u001b[38;5;241m.\u001b[39mto_csv(\u001b[38;5;124m'\u001b[39m\u001b[38;5;124msynthetic_electronic_devices.csv\u001b[39m\u001b[38;5;124m'\u001b[39m, index\u001b[38;5;241m=\u001b[39m\u001b[38;5;28;01mFalse\u001b[39;00m)\n",
      "\u001b[0;31mNameError\u001b[0m: name 'data' is not defined"
     ]
    }
   ],
   "source": [
    "file_path = '/Users/tuzhbagrigoriy/reps/some_hw/python_dz/HW11/gay.csv' \n",
    "df = pd.read_csv(file_path, encoding='utf8')\n",
    "metadata = Metadata.detect_from_dataframes(\n",
    "    data={\n",
    "        'russian': df\n",
    "    })\n",
    "metadata\n",
    "metadata.validate()\n",
    "# metadata.save_to_json('my_final_metadata.json')\n",
    "\n",
    "model = GaussianCopulaSynthesizer(metadata)\n",
    "model.fit(data)\n",
    "\n",
    "synthetic_data = model.sample(100)\n",
    "\n",
    "synthetic_data.to_csv('synthetic_electronic_devices.csv', index=False)\n",
    "print('1000000 of syntetics were created')"
   ]
  },
  {
   "cell_type": "code",
   "execution_count": null,
   "id": "1cd9fc2c-19ee-44d0-bca4-5185234e2f7c",
   "metadata": {},
   "outputs": [],
   "source": []
  }
 ],
 "metadata": {
  "kernelspec": {
   "display_name": "Python (sdv_env)",
   "language": "python",
   "name": "sdv_env"
  },
  "language_info": {
   "codemirror_mode": {
    "name": "ipython",
    "version": 3
   },
   "file_extension": ".py",
   "mimetype": "text/x-python",
   "name": "python",
   "nbconvert_exporter": "python",
   "pygments_lexer": "ipython3",
   "version": "3.10.15"
  }
 },
 "nbformat": 4,
 "nbformat_minor": 5
}
