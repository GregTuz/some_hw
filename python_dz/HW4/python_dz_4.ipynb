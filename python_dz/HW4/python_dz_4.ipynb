{
 "cells": [
  {
   "cell_type": "code",
   "execution_count": 2,
   "id": "a038e3fb-fdb1-4792-9da7-2410536ab8cd",
   "metadata": {},
   "outputs": [],
   "source": [
    "import re"
   ]
  },
  {
   "cell_type": "markdown",
   "id": "c9b14964-c0d2-4482-9645-e907b1798377",
   "metadata": {},
   "source": [
    "ГОСТом для использования на знаках разрешены 12 букв кириллицы, имеющие графические аналоги в латинском алфавите — А, В, Е, К, М, Н, О, Р, С, Т, У, Х."
   ]
  },
  {
   "cell_type": "code",
   "execution_count": 103,
   "id": "fbfcb3dc-a8e1-4d4a-a602-23c3f45ec135",
   "metadata": {},
   "outputs": [],
   "source": [
    "def check_number(car_num:str) -> bool:\n",
    "    pattern = r'[ABEKMHOPCTYXАВЕКМНОРСТУХ]{1}\\d{3}[ABEKMHOPCTYXАВЕКМНОРСТУХ]{2}\\d{1,3}'\n",
    "    if re.match(pattern, car_num.upper()) is not None:\n",
    "        print(f'Номер {car_num.upper()[:6]} валиден. Регион: {car_num.upper()[6:]}.')\n",
    "        return True\n",
    "    else:\n",
    "        print('Номер не валиден')\n",
    "        return False"
   ]
  },
  {
   "cell_type": "code",
   "execution_count": 105,
   "id": "b389dc22-96e4-42c4-bc96-16520e9656e9",
   "metadata": {},
   "outputs": [],
   "source": [
    "num1 = 'a222BС96'\n",
    "num2 = 'АБ22ВВ193'"
   ]
  },
  {
   "cell_type": "code",
   "execution_count": 107,
   "id": "749b534b-1189-4bb9-872b-36019e5bbd7a",
   "metadata": {},
   "outputs": [
    {
     "name": "stdout",
     "output_type": "stream",
     "text": [
      "Номер A222BС валиден. Регион: 96.\n",
      "Номер не валиден\n"
     ]
    },
    {
     "data": {
      "text/plain": [
       "False"
      ]
     },
     "execution_count": 107,
     "metadata": {},
     "output_type": "execute_result"
    }
   ],
   "source": [
    "check_number(num1)\n",
    "check_number(num2)"
   ]
  }
 ],
 "metadata": {
  "kernelspec": {
   "display_name": "Python 3 (ipykernel)",
   "language": "python",
   "name": "python3"
  },
  "language_info": {
   "codemirror_mode": {
    "name": "ipython",
    "version": 3
   },
   "file_extension": ".py",
   "mimetype": "text/x-python",
   "name": "python",
   "nbconvert_exporter": "python",
   "pygments_lexer": "ipython3",
   "version": "3.12.4"
  }
 },
 "nbformat": 4,
 "nbformat_minor": 5
}
