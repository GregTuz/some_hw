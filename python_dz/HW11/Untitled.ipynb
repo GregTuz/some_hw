{
 "cells": [
  {
   "cell_type": "code",
   "execution_count": 6,
   "id": "44638f32-a31b-4cbf-9693-b25bb162db46",
   "metadata": {},
   "outputs": [],
   "source": [
    "from random import choice\n",
    "from confluent_kafka import Producer\n",
    "from pyspark.sql import SparkSession, DataFrame\n",
    "from pyspark.sql.types import StringType, StructType, IntegerType, DateType, StructField\n",
    "import pyspark.sql.functions as F\n",
    "import pandas as pd\n",
    "from sdv.metadata import Metadata\n",
    "from sdv.single_table import GaussianCopulaSynthesizer"
   ]
  },
  {
   "cell_type": "code",
   "execution_count": 8,
   "id": "42dea7b4-7d69-4b51-9e43-36cedbc906fa",
   "metadata": {},
   "outputs": [],
   "source": [
    "def delivery_callback(err, msg):\n",
    "        if err:\n",
    "            print(f'An error occured: {msg.error()}')\n",
    "        else:\n",
    "            print(f'Produced an event to topic - {msg.topic()}, key - {msg.key().decode(\"utf-8\")}, value - {msg.value().decode(\"utf-8\")}')"
   ]
  },
  {
   "cell_type": "code",
   "execution_count": 10,
   "id": "30c7825d-fca5-4c2e-a38b-c5df9ba251fb",
   "metadata": {},
   "outputs": [
    {
     "name": "stdout",
     "output_type": "stream",
     "text": [
      "Produced an event to topic - example_topic, key - black_nigga, value - crack\n",
      "Produced an event to topic - example_topic, key - fuck_nigga, value - drugs\n",
      "Produced an event to topic - example_topic, key - fuck_nigga, value - crack\n",
      "Produced an event to topic - example_topic, key - fuck_nigga, value - crack\n",
      "Produced an event to topic - example_topic, key - gay_nigga, value - crack\n",
      "Produced an event to topic - example_topic, key - fuck_nigga, value - drugs\n",
      "Produced an event to topic - example_topic, key - gay_nigga, value - drugs\n",
      "Produced an event to topic - example_topic, key - black_nigga, value - kfc\n",
      "Produced an event to topic - example_topic, key - fuck_nigga, value - kfc\n",
      "Produced an event to topic - example_topic, key - fuck_nigga, value - crack\n"
     ]
    }
   ],
   "source": [
    "\n",
    "if __name__ == '__main__':\n",
    "\tconfig = {\n",
    "\t\t'bootstrap.servers': 'localhost:9092'\n",
    "\t}\n",
    "\tproducer = Producer(config)\n",
    "           \n",
    "\ttopic = 'example_topic'\n",
    "\tuser = ['black_nigga', 'gay_nigga', 'fuck_nigga']\n",
    "\tproduct = ['crack', 'drugs', 'kfc']\n",
    "\n",
    "\tcount = 0\n",
    "\tfor _ in range(10):\n",
    "\t\tuser_id = choice(user)\n",
    "\t\tprod = choice(product)\n",
    "\t\tproducer.produce(topic, prod, user_id, callback=delivery_callback)\n",
    "\t\tcount += 1\n",
    "\n",
    "\tproducer.poll(10000)\n",
    "\tproducer.flush()"
   ]
  },
  {
   "cell_type": "code",
   "execution_count": 113,
   "id": "dc84a23f-a3c4-4909-96aa-dda61332055f",
   "metadata": {},
   "outputs": [
    {
     "data": {
      "text/html": [
       "<div>\n",
       "<style scoped>\n",
       "    .dataframe tbody tr th:only-of-type {\n",
       "        vertical-align: middle;\n",
       "    }\n",
       "\n",
       "    .dataframe tbody tr th {\n",
       "        vertical-align: top;\n",
       "    }\n",
       "\n",
       "    .dataframe thead th {\n",
       "        text-align: right;\n",
       "    }\n",
       "</style>\n",
       "<table border=\"1\" class=\"dataframe\">\n",
       "  <thead>\n",
       "    <tr style=\"text-align: right;\">\n",
       "      <th></th>\n",
       "      <th>login</th>\n",
       "      <th>text</th>\n",
       "      <th>name</th>\n",
       "    </tr>\n",
       "  </thead>\n",
       "  <tbody>\n",
       "    <tr>\n",
       "      <th>0</th>\n",
       "      <td>12455</td>\n",
       "      <td>Я лох меня зовут Гриша. Я смотрю аниме и собир...</td>\n",
       "      <td>Тужба Г.Б.</td>\n",
       "    </tr>\n",
       "    <tr>\n",
       "      <th>1</th>\n",
       "      <td>4234</td>\n",
       "      <td>Меня зовут Рим я не крутой(</td>\n",
       "      <td>Гайнетдинов Р.Р.</td>\n",
       "    </tr>\n",
       "    <tr>\n",
       "      <th>2</th>\n",
       "      <td>354635</td>\n",
       "      <td>Меня зовут Пашка я ебанутый и у меня отсасывал...</td>\n",
       "      <td>Пашка бб</td>\n",
       "    </tr>\n",
       "  </tbody>\n",
       "</table>\n",
       "</div>"
      ],
      "text/plain": [
       "    login                                               text              name\n",
       "0   12455  Я лох меня зовут Гриша. Я смотрю аниме и собир...        Тужба Г.Б.\n",
       "1    4234                        Меня зовут Рим я не крутой(  Гайнетдинов Р.Р.\n",
       "2  354635  Меня зовут Пашка я ебанутый и у меня отсасывал...          Пашка бб"
      ]
     },
     "execution_count": 113,
     "metadata": {},
     "output_type": "execute_result"
    }
   ],
   "source": [
    "df.head()"
   ]
  },
  {
   "cell_type": "code",
   "execution_count": 117,
   "id": "27ebce5b-88c1-4c50-bcae-1454dbc24336",
   "metadata": {},
   "outputs": [
    {
     "name": "stdout",
     "output_type": "stream",
     "text": [
      "1000000 of syntetics were created\n"
     ]
    }
   ],
   "source": [
    "file_path = '/Users/tuzhbagrigoriy/reps/some_hw/python_dz/HW11/gay.csv' \n",
    "df = pd.read_csv(file_path, encoding='utf8')\n",
    "metadata = Metadata.detect_from_dataframes(\n",
    "    data={\n",
    "        'russian': df\n",
    "    })\n",
    "metadata\n",
    "metadata.validate()\n",
    "metadata.save_to_json('my_final_metadata.json')\n",
    "\n",
    "model = GaussianCopulaSynthesizer(metadata)\n",
    "model.fit(df)\n",
    "\n",
    "synthetic_data = model.sample(100)\n",
    "\n",
    "synthetic_data.to_csv('synthetic_electronic_devices.csv', index=False)\n",
    "print('1000000 of syntetics were created')"
   ]
  },
  {
   "cell_type": "code",
   "execution_count": null,
   "id": "f91ef118-b180-4ad3-a5ee-86d350ca680e",
   "metadata": {},
   "outputs": [],
   "source": []
  }
 ],
 "metadata": {
  "kernelspec": {
   "display_name": "Python (sdv_env)",
   "language": "python",
   "name": "sdv_env"
  },
  "language_info": {
   "codemirror_mode": {
    "name": "ipython",
    "version": 3
   },
   "file_extension": ".py",
   "mimetype": "text/x-python",
   "name": "python",
   "nbconvert_exporter": "python",
   "pygments_lexer": "ipython3",
   "version": "3.10.15"
  }
 },
 "nbformat": 4,
 "nbformat_minor": 5
}
