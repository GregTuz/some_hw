{
 "cells": [
  {
   "cell_type": "code",
   "execution_count": 6,
   "id": "83627e72-f9ee-4f4b-8247-1ab2ace5d6ee",
   "metadata": {},
   "outputs": [],
   "source": [
    "import datetime"
   ]
  },
  {
   "cell_type": "code",
   "execution_count": 8,
   "id": "e639af39-570c-4fab-a3ef-2d1b4a9b8356",
   "metadata": {},
   "outputs": [],
   "source": [
    "def check_input(start, end)->bool:\n",
    "    try:\n",
    "        start = datetime.datetime.strptime(date_start, \"%Y-%m-%d\").date()\n",
    "        end = datetime.datetime.strptime(date_end, \"%Y-%m-%d\").date()\n",
    "    except ValueError:\n",
    "        return False, start, end\n",
    "    if end < start:\n",
    "        return False, start, end\n",
    "        \n",
    "    return True, start, end"
   ]
  },
  {
   "cell_type": "code",
   "execution_count": 10,
   "id": "c85b5ae6-8a3e-4406-88cd-774d05140112",
   "metadata": {},
   "outputs": [],
   "source": [
    "def get_dates_list(start, end)-> list:\n",
    "    a = [start.strftime(\"%Y-%m-%d\")]\n",
    "    diff = end - start\n",
    "    for i in range(diff.days):\n",
    "        a.append((start + datetime.timedelta(days=i+1)).strftime(\"%Y-%m-%d\"))\n",
    "\n",
    "    return a"
   ]
  },
  {
   "cell_type": "code",
   "execution_count": 12,
   "id": "585e03b9-dc24-45e4-a418-5d97e8e262ba",
   "metadata": {},
   "outputs": [
    {
     "name": "stdin",
     "output_type": "stream",
     "text": [
      "Enter start and end dates 2024-09-09 2024-09-11\n"
     ]
    }
   ],
   "source": [
    "date_start, date_end = input(\"Enter start and end dates\").split()\n",
    "cond, start, end = check_input(date_start, date_end)\n",
    "if cond:\n",
    "    dates_list = get_dates_list(start, end)\n",
    "else:\n",
    "    print('Input is incorrect, repeat!')"
   ]
  },
  {
   "cell_type": "code",
   "execution_count": 14,
   "id": "8ccda922-b06b-4ed0-9241-0b7bbeb56105",
   "metadata": {},
   "outputs": [
    {
     "data": {
      "text/plain": [
       "['2024-09-09', '2024-09-10', '2024-09-11']"
      ]
     },
     "execution_count": 14,
     "metadata": {},
     "output_type": "execute_result"
    }
   ],
   "source": [
    "dates_list"
   ]
  },
  {
   "cell_type": "code",
   "execution_count": null,
   "id": "e80bc617-1003-4ea2-86ae-76f50863542f",
   "metadata": {},
   "outputs": [],
   "source": []
  }
 ],
 "metadata": {
  "kernelspec": {
   "display_name": "Python 3 (ipykernel)",
   "language": "python",
   "name": "python3"
  },
  "language_info": {
   "codemirror_mode": {
    "name": "ipython",
    "version": 3
   },
   "file_extension": ".py",
   "mimetype": "text/x-python",
   "name": "python",
   "nbconvert_exporter": "python",
   "pygments_lexer": "ipython3",
   "version": "3.12.4"
  }
 },
 "nbformat": 4,
 "nbformat_minor": 5
}
