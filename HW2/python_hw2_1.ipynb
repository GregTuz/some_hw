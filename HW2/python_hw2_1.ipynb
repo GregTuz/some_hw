{
 "cells": [
  {
   "cell_type": "code",
   "execution_count": 8,
   "id": "4f1a8bd8-6bfe-444a-af79-46fa69b40f0e",
   "metadata": {},
   "outputs": [],
   "source": [
    "import datetime"
   ]
  },
  {
   "cell_type": "code",
   "execution_count": 18,
   "id": "dea71edb-079b-4cd8-aa9c-b345bfdaeeaf",
   "metadata": {},
   "outputs": [],
   "source": [
    "s1 = 'The Moscow Times - Wednesday, October 2, 2002'.split('-')\n",
    "s2 = 'The Guardian - Friday, 11.10.13'.split('-')\n",
    "s3 = 'Daily News - Thursday, 18 August 1977'.split('-')"
   ]
  },
  {
   "cell_type": "code",
   "execution_count": 46,
   "id": "4bdfb211-f1df-4f65-b8c9-24fb0cfe586e",
   "metadata": {},
   "outputs": [
    {
     "data": {
      "text/plain": [
       "datetime.datetime(2002, 10, 2, 0, 0)"
      ]
     },
     "execution_count": 46,
     "metadata": {},
     "output_type": "execute_result"
    }
   ],
   "source": [
    "s1_time = datetime.datetime.strptime(s1[1].strip(), '%A, %B %d, %Y')\n",
    "s1_time"
   ]
  },
  {
   "cell_type": "code",
   "execution_count": 48,
   "id": "c21e2981-84aa-4d87-9679-d9b329e5ff69",
   "metadata": {},
   "outputs": [
    {
     "data": {
      "text/plain": [
       "datetime.datetime(2013, 10, 11, 0, 0)"
      ]
     },
     "execution_count": 48,
     "metadata": {},
     "output_type": "execute_result"
    }
   ],
   "source": [
    "s2_time = datetime.datetime.strptime(s2[1].strip(), '%A, %d.%m.%y')\n",
    "s2_time"
   ]
  },
  {
   "cell_type": "code",
   "execution_count": 50,
   "id": "b08c72b4-db39-4a1d-9b31-bc26359a1fff",
   "metadata": {},
   "outputs": [
    {
     "data": {
      "text/plain": [
       "datetime.datetime(1977, 8, 18, 0, 0)"
      ]
     },
     "execution_count": 50,
     "metadata": {},
     "output_type": "execute_result"
    }
   ],
   "source": [
    "s3_time = datetime.datetime.strptime(s3[1].strip(), '%A, %d %B %Y')\n",
    "s3_time"
   ]
  },
  {
   "cell_type": "code",
   "execution_count": null,
   "id": "bfb19f05-f2f6-496a-b6a1-37c9e8ba5d1a",
   "metadata": {},
   "outputs": [],
   "source": []
  }
 ],
 "metadata": {
  "kernelspec": {
   "display_name": "Python 3 (ipykernel)",
   "language": "python",
   "name": "python3"
  },
  "language_info": {
   "codemirror_mode": {
    "name": "ipython",
    "version": 3
   },
   "file_extension": ".py",
   "mimetype": "text/x-python",
   "name": "python",
   "nbconvert_exporter": "python",
   "pygments_lexer": "ipython3",
   "version": "3.12.4"
  }
 },
 "nbformat": 4,
 "nbformat_minor": 5
}
